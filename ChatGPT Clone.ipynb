{
 "cells": [
  {
   "cell_type": "markdown",
   "id": "f41a7252-9f48-47bd-9c97-f052ace3a0f4",
   "metadata": {},
   "source": [
    "### Building ChatGPT based ChatBot"
   ]
  },
  {
   "cell_type": "code",
   "execution_count": 1,
   "id": "fb369dd4-fb88-4da7-88e9-41cf6f154a6d",
   "metadata": {
    "tags": []
   },
   "outputs": [],
   "source": [
    "import openai\n",
    "import os\n",
    "import time\n",
    "\n",
    "openai.api_key = open('key.txt').read()"
   ]
  },
  {
   "cell_type": "markdown",
   "id": "72e58e3b-7f9f-4d7b-a277-632b3305fbe4",
   "metadata": {},
   "source": [
    "### Making a Dialogue"
   ]
  },
  {
   "cell_type": "code",
   "execution_count": 2,
   "id": "a97dbaeb-defc-4edb-8d56-92de2a4a8c47",
   "metadata": {
    "tags": []
   },
   "outputs": [],
   "source": [
    "q1 = 'What are the most commonly found food ingredients in India?'\n",
    "q2 = 'Make a recipe with those items.'\n",
    "q3 = 'What is the amount of calories in kcal for that recipe?'\n",
    "\n",
    "messages = [\n",
    "    { 'role' : 'system', 'content' : 'Answer as concisely as possible'},\n",
    "    { 'role' : 'user', 'content' : q1}\n",
    "]\n",
    "response = openai.ChatCompletion.create(\n",
    "    model = 'gpt-3.5-turbo',\n",
    "    messages = messages,\n",
    "    temperature = 0.7\n",
    ")\n",
    "bot_response_1 = response.choices[0].message.content"
   ]
  },
  {
   "cell_type": "code",
   "execution_count": 3,
   "id": "dafa5c35-b90c-4541-b809-cd5066ea94a6",
   "metadata": {
    "tags": []
   },
   "outputs": [
    {
     "name": "stdout",
     "output_type": "stream",
     "text": [
      "Some of the most commonly found food ingredients in India include rice, wheat, lentils, spices (such as turmeric, cumin, and coriander), tomatoes, onions, garlic, ginger, and various vegetables like potatoes, cauliflower, and spinach.\n",
      "\n",
      "------------------------------------------------------------------------------------------------------------------------------------------------------\n",
      "\n"
     ]
    }
   ],
   "source": [
    "print(bot_response_1)\n",
    "print()\n",
    "print('-' * 150)\n",
    "print()"
   ]
  },
  {
   "cell_type": "code",
   "execution_count": 4,
   "id": "bbb479d1-58bd-4697-9142-31ae1da4dfd9",
   "metadata": {
    "tags": []
   },
   "outputs": [
    {
     "name": "stdout",
     "output_type": "stream",
     "text": [
      "One popular Indian recipe that incorporates these common ingredients is Vegetable Biryani. Here's a simplified version of the recipe:\n",
      "\n",
      "Ingredients:\n",
      "- 1 cup basmati rice\n",
      "- 1 cup mixed vegetables (e.g., carrots, peas, beans)\n",
      "- 1 onion, sliced\n",
      "- 2 tomatoes, chopped\n",
      "- 3-4 cloves of garlic, minced\n",
      "- 1-inch piece of ginger, grated\n",
      "- 2 green chilies, slit\n",
      "- 1 teaspoon cumin seeds\n",
      "- 1 teaspoon turmeric powder\n",
      "- 1 teaspoon coriander powder\n",
      "- 1/2 teaspoon garam masala\n",
      "- Salt to taste\n",
      "- 2 tablespoons oil or ghee\n",
      "- Fresh coriander leaves for garnish\n",
      "\n",
      "Instructions:\n",
      "1. Rinse the basmati rice under cold water until the water runs clear. Soak the rice in water for around 30 minutes, then drain and set aside.\n",
      "2. Heat oil or ghee in a large pan. Add cumin seeds and let them splutter.\n",
      "3. Add sliced onions and sauté until golden brown. Then, add minced garlic, grated ginger, and green chilies. Cook for another minute.\n",
      "4. Add chopped tomatoes, turmeric powder, coriander powder, and salt. Cook until the tomatoes are soft and mushy.\n",
      "5. Add the mixed vegetables and cook for a few minutes until they are slightly tender.\n",
      "6. Add the soaked and drained basmati rice to the pan. Gently mix everything together.\n",
      "7. Pour water into the pan, using a 1:2 ratio of rice to water (for 1 cup of rice, use 2 cups of water).\n",
      "8. Bring the mixture to a boil, then reduce the heat to low, cover the pan with a lid, and let it simmer for around 15-20 minutes or until the rice is cooked and the water is absorbed.\n",
      "9. Once done, remove the pan from heat and let it rest for a few minutes. Fluff the rice with a fork.\n",
      "10. Garnish with fresh coriander leaves and serve hot with raita (yogurt sauce) or pickle.\n",
      "\n",
      "Note: You can also add whole spices like cinnamon, cardamom, and cloves for additional flavor if desired. Adjust the spice levels according to your taste preferences.\n",
      "\n",
      "------------------------------------------------------------------------------------------------------------------------------------------------------\n",
      "\n"
     ]
    }
   ],
   "source": [
    "messages = [\n",
    "    { 'role' : 'system', 'content' : 'Answer as concisely as possible'},\n",
    "    { 'role' : 'user', 'content' : q1},\n",
    "    { 'role' : 'assistant', 'content' : bot_response_1},\n",
    "    { 'role' : 'user', 'content' : q2}\n",
    "]\n",
    "response = openai.ChatCompletion.create(\n",
    "    model = 'gpt-3.5-turbo',\n",
    "    messages = messages,\n",
    "    temperature = 0.7\n",
    ")\n",
    "bot_response_2 = response.choices[0].message.content\n",
    "print(bot_response_2)\n",
    "print()\n",
    "print('-' * 150)\n",
    "print()"
   ]
  },
  {
   "cell_type": "code",
   "execution_count": 5,
   "id": "1a4e9016-1eca-4207-baa8-0a953b29321f",
   "metadata": {
    "tags": []
   },
   "outputs": [
    {
     "name": "stdout",
     "output_type": "stream",
     "text": [
      "The calorie content of a recipe can vary based on portion sizes and specific ingredients used. To calculate the approximate calorie content of Vegetable Biryani, we can look at the calorie values of the main ingredients:\n",
      "\n",
      "- 1 cup basmati rice (cooked) - approximately 200 calories\n",
      "- 1 cup mixed vegetables - approximately 50-100 calories (depending on the specific vegetables used)\n",
      "- 1 onion - approximately 40-50 calories\n",
      "- 2 tomatoes - approximately 30-40 calories\n",
      "- 3-4 cloves of garlic - approximately 10-20 calories\n",
      "- 1-inch piece of ginger - approximately 5-10 calories\n",
      "- 2 green chilies - approximately 10-15 calories\n",
      "- 1 teaspoon cumin seeds - approximately 20-25 calories\n",
      "- 1 teaspoon turmeric powder - approximately 10-15 calories\n",
      "- 1 teaspoon coriander powder - approximately 10-15 calories\n",
      "- 1/2 teaspoon garam masala - approximately 5-10 calories\n",
      "- 2 tablespoons oil or ghee - approximately 200-250 calories (depending on the type and quantity used)\n",
      "\n",
      "These values are approximate and can vary depending on the specific brands, cooking methods, and quantities used. To calculate the total calorie content of the recipe, you would need to add up the calories from each ingredient used and adjust based on the specific measurements and portion sizes of your preparation.\n",
      "\n",
      "------------------------------------------------------------------------------------------------------------------------------------------------------\n",
      "\n"
     ]
    }
   ],
   "source": [
    "messages = [\n",
    "    { 'role' : 'system', 'content' : 'Answer as concisely as possible'},\n",
    "    { 'role' : 'user', 'content' : q1},\n",
    "    { 'role' : 'assistant', 'content' : bot_response_1},\n",
    "    { 'role' : 'user', 'content' : q2},\n",
    "    { 'role' : 'assistant', 'content' : bot_response_2},\n",
    "    { 'role' : 'user', 'content' : q3}\n",
    "]\n",
    "response = openai.ChatCompletion.create(\n",
    "    model = 'gpt-3.5-turbo',\n",
    "    messages = messages,\n",
    "    temperature = 0.7\n",
    ")\n",
    "bot_response_3 = response.choices[0].message.content\n",
    "print(bot_response_3)\n",
    "print()\n",
    "print('-' * 150)\n",
    "print()"
   ]
  },
  {
   "cell_type": "code",
   "execution_count": null,
   "id": "554d7181-eca9-489e-b345-11e732d6db6b",
   "metadata": {
    "tags": []
   },
   "outputs": [
    {
     "name": "stdin",
     "output_type": "stream",
     "text": [
      "Please provide System prompt: e.g. \"Answer as concisely as possible, You will answer in Hindi etc\" answer in bengali in brief\n",
      "Me:  what is the favourite food of west bengal?\n"
     ]
    },
    {
     "name": "stdout",
     "output_type": "stream",
     "text": [
      "\n",
      "Chat Bot: Panta Bhat and Hilsa Fish are two of the most popular and favorite foods in West Bengal. Panta Bhat is a traditional dish made by soaking leftover rice in water overnight and serving it with various accompaniments like fried fish, pickles, and curries. Hilsa Fish, also known as Ilish, is a prized fish in Bengali cuisine and is often prepared in multiple ways such as steamed, fried, or cooked in mustard sauce.\n",
      "\n",
      "----------------------------------------------------------------------------------------------------\n",
      "\n"
     ]
    }
   ],
   "source": [
    "import openai\n",
    "import os\n",
    "import time\n",
    "\n",
    "openai.api_key = open('key.txt').read()\n",
    "\n",
    "questions = []\n",
    "bot_responses = []\n",
    "messages = []\n",
    "\n",
    "system_prompt = input('Please provide System prompt: \\\n",
    "e.g. \"Answer as concisely as possible, You will answer in Hindi etc\"')\n",
    "if system_prompt == '':\n",
    "    system_prompt = 'Answer as concisely as possible.'\n",
    "messages.append({'role': 'system', 'content' : system_prompt})\n",
    "\n",
    "while True:\n",
    "    current_question = input('Me: ')\n",
    "    if current_question.lower() in ['exit', 'quit', 'bye', 'goodbye']:\n",
    "        print('Chat Bot: I was happy to assist you. Bye Bye!')\n",
    "        time.sleep(2)\n",
    "        break\n",
    "    if current_question == '':\n",
    "        continue\n",
    "        \n",
    "    messages.append({'role': 'user', 'content' : current_question})\n",
    "    \n",
    "    response = openai.ChatCompletion.create(\n",
    "        model = 'gpt-3.5-turbo',\n",
    "        messages = messages,\n",
    "        temperature = 0.7)\n",
    "                    \n",
    "    current_reponse = response.choices[0].message.content\n",
    "    print(f'\\nChat Bot: {current_reponse}')\n",
    "    bot_responses.append(current_reponse)\n",
    "    messages.append({'role' : 'assistant', 'content' : current_reponse})\n",
    "    \n",
    "    print('\\n' + '-' * 100 + '\\n')\n",
    "                    "
   ]
  },
  {
   "cell_type": "code",
   "execution_count": null,
   "id": "baf0a77f-c559-44cd-addd-e1a7a1b2e4bf",
   "metadata": {},
   "outputs": [],
   "source": []
  },
  {
   "cell_type": "code",
   "execution_count": null,
   "id": "7258bffe-f58d-490d-afb1-882843b39ada",
   "metadata": {},
   "outputs": [],
   "source": []
  }
 ],
 "metadata": {
  "kernelspec": {
   "display_name": "Python 3 (ipykernel)",
   "language": "python",
   "name": "python3"
  },
  "language_info": {
   "codemirror_mode": {
    "name": "ipython",
    "version": 3
   },
   "file_extension": ".py",
   "mimetype": "text/x-python",
   "name": "python",
   "nbconvert_exporter": "python",
   "pygments_lexer": "ipython3",
   "version": "3.8.17"
  }
 },
 "nbformat": 4,
 "nbformat_minor": 5
}
